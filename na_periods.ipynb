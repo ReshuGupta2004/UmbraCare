{
 "cells": [
  {
   "cell_type": "code",
   "execution_count": 1,
   "metadata": {},
   "outputs": [],
   "source": [
    "import numpy as np\n",
    "import pandas as pd\n",
    "import matplotlib.pyplot as plt\n",
    "from sklearn.model_selection import train_test_split\n",
    "import seaborn as sns"
   ]
  },
  {
   "cell_type": "code",
   "execution_count": 2,
   "metadata": {},
   "outputs": [],
   "source": [
    "PATH_TO_DATASET=f\"menstural_cycle_length_dataset.csv\""
   ]
  },
  {
   "cell_type": "code",
   "execution_count": 3,
   "metadata": {},
   "outputs": [
    {
     "data": {
      "text/html": [
       "<div>\n",
       "<style scoped>\n",
       "    .dataframe tbody tr th:only-of-type {\n",
       "        vertical-align: middle;\n",
       "    }\n",
       "\n",
       "    .dataframe tbody tr th {\n",
       "        vertical-align: top;\n",
       "    }\n",
       "\n",
       "    .dataframe thead th {\n",
       "        text-align: right;\n",
       "    }\n",
       "</style>\n",
       "<table border=\"1\" class=\"dataframe\">\n",
       "  <thead>\n",
       "    <tr style=\"text-align: right;\">\n",
       "      <th></th>\n",
       "      <th>new_id</th>\n",
       "      <th>age</th>\n",
       "      <th>cycle_number</th>\n",
       "      <th>cycle_start_date</th>\n",
       "      <th>cycle_end_date</th>\n",
       "      <th>cycle_length</th>\n",
       "      <th>conception_cycle</th>\n",
       "    </tr>\n",
       "  </thead>\n",
       "  <tbody>\n",
       "    <tr>\n",
       "      <th>0</th>\n",
       "      <td>1</td>\n",
       "      <td>26</td>\n",
       "      <td>1</td>\n",
       "      <td>05/21/2025</td>\n",
       "      <td>06/16/2025</td>\n",
       "      <td>27</td>\n",
       "      <td>No</td>\n",
       "    </tr>\n",
       "    <tr>\n",
       "      <th>1</th>\n",
       "      <td>1</td>\n",
       "      <td>26</td>\n",
       "      <td>2</td>\n",
       "      <td>06/17/2025</td>\n",
       "      <td>07/15/2025</td>\n",
       "      <td>29</td>\n",
       "      <td>No</td>\n",
       "    </tr>\n",
       "    <tr>\n",
       "      <th>2</th>\n",
       "      <td>1</td>\n",
       "      <td>26</td>\n",
       "      <td>3</td>\n",
       "      <td>07/16/2025</td>\n",
       "      <td>08/13/2025</td>\n",
       "      <td>29</td>\n",
       "      <td>Yes</td>\n",
       "    </tr>\n",
       "    <tr>\n",
       "      <th>3</th>\n",
       "      <td>2</td>\n",
       "      <td>28</td>\n",
       "      <td>2</td>\n",
       "      <td>06/09/2025</td>\n",
       "      <td>07/05/2025</td>\n",
       "      <td>27</td>\n",
       "      <td>No</td>\n",
       "    </tr>\n",
       "    <tr>\n",
       "      <th>4</th>\n",
       "      <td>2</td>\n",
       "      <td>28</td>\n",
       "      <td>3</td>\n",
       "      <td>07/06/2025</td>\n",
       "      <td>08/09/2025</td>\n",
       "      <td>26</td>\n",
       "      <td>Yes</td>\n",
       "    </tr>\n",
       "    <tr>\n",
       "      <th>...</th>\n",
       "      <td>...</td>\n",
       "      <td>...</td>\n",
       "      <td>...</td>\n",
       "      <td>...</td>\n",
       "      <td>...</td>\n",
       "      <td>...</td>\n",
       "      <td>...</td>\n",
       "    </tr>\n",
       "    <tr>\n",
       "      <th>3319</th>\n",
       "      <td>580</td>\n",
       "      <td>32</td>\n",
       "      <td>3</td>\n",
       "      <td>05/19/2025</td>\n",
       "      <td>06/14/2025</td>\n",
       "      <td>27</td>\n",
       "      <td>No</td>\n",
       "    </tr>\n",
       "    <tr>\n",
       "      <th>3320</th>\n",
       "      <td>580</td>\n",
       "      <td>32</td>\n",
       "      <td>4</td>\n",
       "      <td>06/15/2025</td>\n",
       "      <td>07/14/2025</td>\n",
       "      <td>30</td>\n",
       "      <td>No</td>\n",
       "    </tr>\n",
       "    <tr>\n",
       "      <th>3321</th>\n",
       "      <td>580</td>\n",
       "      <td>32</td>\n",
       "      <td>5</td>\n",
       "      <td>07/15/2025</td>\n",
       "      <td>08/11/2025</td>\n",
       "      <td>28</td>\n",
       "      <td>No</td>\n",
       "    </tr>\n",
       "    <tr>\n",
       "      <th>3322</th>\n",
       "      <td>580</td>\n",
       "      <td>32</td>\n",
       "      <td>6</td>\n",
       "      <td>08/12/2025</td>\n",
       "      <td>09/10/2025</td>\n",
       "      <td>30</td>\n",
       "      <td>No</td>\n",
       "    </tr>\n",
       "    <tr>\n",
       "      <th>3323</th>\n",
       "      <td>581</td>\n",
       "      <td>30</td>\n",
       "      <td>1</td>\n",
       "      <td>06/02/2025</td>\n",
       "      <td>07/12/2025</td>\n",
       "      <td>41</td>\n",
       "      <td>No</td>\n",
       "    </tr>\n",
       "  </tbody>\n",
       "</table>\n",
       "<p>3324 rows × 7 columns</p>\n",
       "</div>"
      ],
      "text/plain": [
       "      new_id  age  cycle_number cycle_start_date cycle_end_date  cycle_length  \\\n",
       "0          1   26             1       05/21/2025     06/16/2025            27   \n",
       "1          1   26             2       06/17/2025     07/15/2025            29   \n",
       "2          1   26             3       07/16/2025     08/13/2025            29   \n",
       "3          2   28             2       06/09/2025     07/05/2025            27   \n",
       "4          2   28             3       07/06/2025     08/09/2025            26   \n",
       "...      ...  ...           ...              ...            ...           ...   \n",
       "3319     580   32             3       05/19/2025     06/14/2025            27   \n",
       "3320     580   32             4       06/15/2025     07/14/2025            30   \n",
       "3321     580   32             5       07/15/2025     08/11/2025            28   \n",
       "3322     580   32             6       08/12/2025     09/10/2025            30   \n",
       "3323     581   30             1       06/02/2025     07/12/2025            41   \n",
       "\n",
       "     conception_cycle  \n",
       "0                  No  \n",
       "1                  No  \n",
       "2                 Yes  \n",
       "3                  No  \n",
       "4                 Yes  \n",
       "...               ...  \n",
       "3319               No  \n",
       "3320               No  \n",
       "3321               No  \n",
       "3322               No  \n",
       "3323               No  \n",
       "\n",
       "[3324 rows x 7 columns]"
      ]
     },
     "execution_count": 3,
     "metadata": {},
     "output_type": "execute_result"
    }
   ],
   "source": [
    "dataset_df=pd.read_csv(PATH_TO_DATASET)\n",
    "dataset_df"
   ]
  },
  {
   "cell_type": "code",
   "execution_count": 4,
   "metadata": {},
   "outputs": [],
   "source": [
    "dataset_df = dataset_df[dataset_df[\"conception_cycle\"] != \"missing\"]"
   ]
  },
  {
   "cell_type": "code",
   "execution_count": 5,
   "metadata": {},
   "outputs": [
    {
     "data": {
      "text/html": [
       "<div>\n",
       "<style scoped>\n",
       "    .dataframe tbody tr th:only-of-type {\n",
       "        vertical-align: middle;\n",
       "    }\n",
       "\n",
       "    .dataframe tbody tr th {\n",
       "        vertical-align: top;\n",
       "    }\n",
       "\n",
       "    .dataframe thead th {\n",
       "        text-align: right;\n",
       "    }\n",
       "</style>\n",
       "<table border=\"1\" class=\"dataframe\">\n",
       "  <thead>\n",
       "    <tr style=\"text-align: right;\">\n",
       "      <th></th>\n",
       "      <th>new_id</th>\n",
       "      <th>age</th>\n",
       "      <th>cycle_number</th>\n",
       "      <th>cycle_start_date</th>\n",
       "      <th>cycle_end_date</th>\n",
       "      <th>cycle_length</th>\n",
       "      <th>conception_cycle</th>\n",
       "    </tr>\n",
       "  </thead>\n",
       "  <tbody>\n",
       "    <tr>\n",
       "      <th>0</th>\n",
       "      <td>1</td>\n",
       "      <td>26</td>\n",
       "      <td>1</td>\n",
       "      <td>05/21/2025</td>\n",
       "      <td>06/16/2025</td>\n",
       "      <td>27</td>\n",
       "      <td>No</td>\n",
       "    </tr>\n",
       "    <tr>\n",
       "      <th>1</th>\n",
       "      <td>1</td>\n",
       "      <td>26</td>\n",
       "      <td>2</td>\n",
       "      <td>06/17/2025</td>\n",
       "      <td>07/15/2025</td>\n",
       "      <td>29</td>\n",
       "      <td>No</td>\n",
       "    </tr>\n",
       "    <tr>\n",
       "      <th>2</th>\n",
       "      <td>1</td>\n",
       "      <td>26</td>\n",
       "      <td>3</td>\n",
       "      <td>07/16/2025</td>\n",
       "      <td>08/13/2025</td>\n",
       "      <td>29</td>\n",
       "      <td>Yes</td>\n",
       "    </tr>\n",
       "    <tr>\n",
       "      <th>3</th>\n",
       "      <td>2</td>\n",
       "      <td>28</td>\n",
       "      <td>2</td>\n",
       "      <td>06/09/2025</td>\n",
       "      <td>07/05/2025</td>\n",
       "      <td>27</td>\n",
       "      <td>No</td>\n",
       "    </tr>\n",
       "    <tr>\n",
       "      <th>4</th>\n",
       "      <td>2</td>\n",
       "      <td>28</td>\n",
       "      <td>3</td>\n",
       "      <td>07/06/2025</td>\n",
       "      <td>08/09/2025</td>\n",
       "      <td>26</td>\n",
       "      <td>Yes</td>\n",
       "    </tr>\n",
       "    <tr>\n",
       "      <th>...</th>\n",
       "      <td>...</td>\n",
       "      <td>...</td>\n",
       "      <td>...</td>\n",
       "      <td>...</td>\n",
       "      <td>...</td>\n",
       "      <td>...</td>\n",
       "      <td>...</td>\n",
       "    </tr>\n",
       "    <tr>\n",
       "      <th>3319</th>\n",
       "      <td>580</td>\n",
       "      <td>32</td>\n",
       "      <td>3</td>\n",
       "      <td>05/19/2025</td>\n",
       "      <td>06/14/2025</td>\n",
       "      <td>27</td>\n",
       "      <td>No</td>\n",
       "    </tr>\n",
       "    <tr>\n",
       "      <th>3320</th>\n",
       "      <td>580</td>\n",
       "      <td>32</td>\n",
       "      <td>4</td>\n",
       "      <td>06/15/2025</td>\n",
       "      <td>07/14/2025</td>\n",
       "      <td>30</td>\n",
       "      <td>No</td>\n",
       "    </tr>\n",
       "    <tr>\n",
       "      <th>3321</th>\n",
       "      <td>580</td>\n",
       "      <td>32</td>\n",
       "      <td>5</td>\n",
       "      <td>07/15/2025</td>\n",
       "      <td>08/11/2025</td>\n",
       "      <td>28</td>\n",
       "      <td>No</td>\n",
       "    </tr>\n",
       "    <tr>\n",
       "      <th>3322</th>\n",
       "      <td>580</td>\n",
       "      <td>32</td>\n",
       "      <td>6</td>\n",
       "      <td>08/12/2025</td>\n",
       "      <td>09/10/2025</td>\n",
       "      <td>30</td>\n",
       "      <td>No</td>\n",
       "    </tr>\n",
       "    <tr>\n",
       "      <th>3323</th>\n",
       "      <td>581</td>\n",
       "      <td>30</td>\n",
       "      <td>1</td>\n",
       "      <td>06/02/2025</td>\n",
       "      <td>07/12/2025</td>\n",
       "      <td>41</td>\n",
       "      <td>No</td>\n",
       "    </tr>\n",
       "  </tbody>\n",
       "</table>\n",
       "<p>3324 rows × 7 columns</p>\n",
       "</div>"
      ],
      "text/plain": [
       "      new_id  age  cycle_number cycle_start_date cycle_end_date  cycle_length  \\\n",
       "0          1   26             1       05/21/2025     06/16/2025            27   \n",
       "1          1   26             2       06/17/2025     07/15/2025            29   \n",
       "2          1   26             3       07/16/2025     08/13/2025            29   \n",
       "3          2   28             2       06/09/2025     07/05/2025            27   \n",
       "4          2   28             3       07/06/2025     08/09/2025            26   \n",
       "...      ...  ...           ...              ...            ...           ...   \n",
       "3319     580   32             3       05/19/2025     06/14/2025            27   \n",
       "3320     580   32             4       06/15/2025     07/14/2025            30   \n",
       "3321     580   32             5       07/15/2025     08/11/2025            28   \n",
       "3322     580   32             6       08/12/2025     09/10/2025            30   \n",
       "3323     581   30             1       06/02/2025     07/12/2025            41   \n",
       "\n",
       "     conception_cycle  \n",
       "0                  No  \n",
       "1                  No  \n",
       "2                 Yes  \n",
       "3                  No  \n",
       "4                 Yes  \n",
       "...               ...  \n",
       "3319               No  \n",
       "3320               No  \n",
       "3321               No  \n",
       "3322               No  \n",
       "3323               No  \n",
       "\n",
       "[3324 rows x 7 columns]"
      ]
     },
     "execution_count": 5,
     "metadata": {},
     "output_type": "execute_result"
    }
   ],
   "source": [
    "dataset_df"
   ]
  },
  {
   "cell_type": "code",
   "execution_count": 6,
   "metadata": {},
   "outputs": [],
   "source": [
    "dataset_df[\"conception_cycle\"]=dataset_df[\"conception_cycle\"].apply(lambda x: 1 if x==\"Yes\" else 0)\n"
   ]
  },
  {
   "cell_type": "code",
   "execution_count": 7,
   "metadata": {},
   "outputs": [],
   "source": [
    "# dataset_df[\"cycle_start_date\"]=pd.to_datetime(dataset_df[\"cycle_start_date\"])\n",
    "# dataset_df[\"cycle_end_date\"]=pd.to_datetime(dataset_df[\"cycle_end_date\"])\n",
    "# dataset_df['cycle_length_days'] = (dataset_df['cycle_end_date'] - dataset_df['cycle_start_date']).dt.days.abs()\n",
    "dataset_df.drop(columns=[\"cycle_start_date\",\"cycle_end_date\"],inplace=True)"
   ]
  },
  {
   "cell_type": "code",
   "execution_count": 8,
   "metadata": {},
   "outputs": [
    {
     "data": {
      "text/html": [
       "<div>\n",
       "<style scoped>\n",
       "    .dataframe tbody tr th:only-of-type {\n",
       "        vertical-align: middle;\n",
       "    }\n",
       "\n",
       "    .dataframe tbody tr th {\n",
       "        vertical-align: top;\n",
       "    }\n",
       "\n",
       "    .dataframe thead th {\n",
       "        text-align: right;\n",
       "    }\n",
       "</style>\n",
       "<table border=\"1\" class=\"dataframe\">\n",
       "  <thead>\n",
       "    <tr style=\"text-align: right;\">\n",
       "      <th></th>\n",
       "      <th>new_id</th>\n",
       "      <th>age</th>\n",
       "      <th>cycle_number</th>\n",
       "      <th>cycle_length</th>\n",
       "      <th>conception_cycle</th>\n",
       "    </tr>\n",
       "  </thead>\n",
       "  <tbody>\n",
       "    <tr>\n",
       "      <th>0</th>\n",
       "      <td>1</td>\n",
       "      <td>26</td>\n",
       "      <td>1</td>\n",
       "      <td>27</td>\n",
       "      <td>0</td>\n",
       "    </tr>\n",
       "    <tr>\n",
       "      <th>1</th>\n",
       "      <td>1</td>\n",
       "      <td>26</td>\n",
       "      <td>2</td>\n",
       "      <td>29</td>\n",
       "      <td>0</td>\n",
       "    </tr>\n",
       "    <tr>\n",
       "      <th>2</th>\n",
       "      <td>1</td>\n",
       "      <td>26</td>\n",
       "      <td>3</td>\n",
       "      <td>29</td>\n",
       "      <td>1</td>\n",
       "    </tr>\n",
       "    <tr>\n",
       "      <th>3</th>\n",
       "      <td>2</td>\n",
       "      <td>28</td>\n",
       "      <td>2</td>\n",
       "      <td>27</td>\n",
       "      <td>0</td>\n",
       "    </tr>\n",
       "    <tr>\n",
       "      <th>4</th>\n",
       "      <td>2</td>\n",
       "      <td>28</td>\n",
       "      <td>3</td>\n",
       "      <td>26</td>\n",
       "      <td>1</td>\n",
       "    </tr>\n",
       "    <tr>\n",
       "      <th>...</th>\n",
       "      <td>...</td>\n",
       "      <td>...</td>\n",
       "      <td>...</td>\n",
       "      <td>...</td>\n",
       "      <td>...</td>\n",
       "    </tr>\n",
       "    <tr>\n",
       "      <th>3319</th>\n",
       "      <td>580</td>\n",
       "      <td>32</td>\n",
       "      <td>3</td>\n",
       "      <td>27</td>\n",
       "      <td>0</td>\n",
       "    </tr>\n",
       "    <tr>\n",
       "      <th>3320</th>\n",
       "      <td>580</td>\n",
       "      <td>32</td>\n",
       "      <td>4</td>\n",
       "      <td>30</td>\n",
       "      <td>0</td>\n",
       "    </tr>\n",
       "    <tr>\n",
       "      <th>3321</th>\n",
       "      <td>580</td>\n",
       "      <td>32</td>\n",
       "      <td>5</td>\n",
       "      <td>28</td>\n",
       "      <td>0</td>\n",
       "    </tr>\n",
       "    <tr>\n",
       "      <th>3322</th>\n",
       "      <td>580</td>\n",
       "      <td>32</td>\n",
       "      <td>6</td>\n",
       "      <td>30</td>\n",
       "      <td>0</td>\n",
       "    </tr>\n",
       "    <tr>\n",
       "      <th>3323</th>\n",
       "      <td>581</td>\n",
       "      <td>30</td>\n",
       "      <td>1</td>\n",
       "      <td>41</td>\n",
       "      <td>0</td>\n",
       "    </tr>\n",
       "  </tbody>\n",
       "</table>\n",
       "<p>3324 rows × 5 columns</p>\n",
       "</div>"
      ],
      "text/plain": [
       "      new_id  age  cycle_number  cycle_length  conception_cycle\n",
       "0          1   26             1            27                 0\n",
       "1          1   26             2            29                 0\n",
       "2          1   26             3            29                 1\n",
       "3          2   28             2            27                 0\n",
       "4          2   28             3            26                 1\n",
       "...      ...  ...           ...           ...               ...\n",
       "3319     580   32             3            27                 0\n",
       "3320     580   32             4            30                 0\n",
       "3321     580   32             5            28                 0\n",
       "3322     580   32             6            30                 0\n",
       "3323     581   30             1            41                 0\n",
       "\n",
       "[3324 rows x 5 columns]"
      ]
     },
     "execution_count": 8,
     "metadata": {},
     "output_type": "execute_result"
    }
   ],
   "source": [
    "dataset_df"
   ]
  },
  {
   "cell_type": "code",
   "execution_count": 9,
   "metadata": {},
   "outputs": [
    {
     "name": "stdout",
     "output_type": "stream",
     "text": [
      "Training set shape: (2613, 5)\n",
      "Testing set shape: (711, 5)\n"
     ]
    }
   ],
   "source": [
    "unique_ids = dataset_df[\"new_id\"].unique()\n",
    "\n",
    "train_ids, test_ids = train_test_split(unique_ids, test_size=0.2, random_state=42)\n",
    "\n",
    "train_df = dataset_df[dataset_df[\"new_id\"].isin(train_ids)]\n",
    "\n",
    "# Create the testing set with rows where new_id is in test_ids\n",
    "test_df = dataset_df[dataset_df[\"new_id\"].isin(test_ids)]\n",
    "\n",
    "print(f\"Training set shape: {train_df.shape}\")\n",
    "print(f\"Testing set shape: {test_df.shape}\")"
   ]
  },
  {
   "cell_type": "code",
   "execution_count": 10,
   "metadata": {},
   "outputs": [
    {
     "data": {
      "image/png": "[encoded data removed]",
      "text/plain": [
       "<Figure size 640x480 with 1 Axes>"
      ]
     },
     "metadata": {},
     "output_type": "display_data"
    },
    {
     "data": {
      "image/png": "[encoded data removed]",
      "text/plain": [
       "<Figure size 640x480 with 1 Axes>"
      ]
     },
     "metadata": {},
     "output_type": "display_data"
    },
    {
     "data": {
      "image/png": "[encoded data removed]",
      "text/plain": [
       "<Figure size 640x480 with 1 Axes>"
      ]
     },
     "metadata": {},
     "output_type": "display_data"
    },
    {
     "data": {
      "image/png": "[encoded data removed]",
      "text/plain": [
       "<Figure size 640x480 with 1 Axes>"
      ]
     },
     "metadata": {},
     "output_type": "display_data"
    },
    {
     "data": {
      "image/png": "[encoded data removed]",
      "text/plain": [
       "<Figure size 640x480 with 1 Axes>"
      ]
     },
     "metadata": {},
     "output_type": "display_data"
    }
   ],
   "source": [
    "for i in train_df.columns:\n",
    "   \n",
    "        sns.kdeplot(train_df[i])\n",
    "        plt.title(i)\n",
    "        plt.show()"
   ]
  },
  {
   "cell_type": "code",
   "execution_count": 11,
   "metadata": {},
   "outputs": [
    {
     "data": {
      "image/png": "[encoded data removed]",
      "text/plain": [
       "<Figure size 640x480 with 2 Axes>"
      ]
     },
     "metadata": {},
     "output_type": "display_data"
    }
   ],
   "source": [
    "sns.heatmap(train_df.corr(), annot=True)\n",
    "plt.show()"
   ]
  },
  {
   "cell_type": "code",
   "execution_count": 12,
   "metadata": {},
   "outputs": [
    {
     "name": "stderr",
     "output_type": "stream",
     "text": [
      "C:\\Users\\medha\\AppData\\Local\\Temp\\ipykernel_20024\\1790194219.py:1: SettingWithCopyWarning: \n",
      "A value is trying to be set on a copy of a slice from a DataFrame\n",
      "\n",
      "See the caveats in the documentation: https://pandas.pydata.org/pandas-docs/stable/user_guide/indexing.html#returning-a-view-versus-a-copy\n",
      "  train_df.drop(columns=[\"new_id\"],inplace=True)\n"
     ]
    }
   ],
   "source": [
    "train_df.drop(columns=[\"new_id\"],inplace=True)"
   ]
  },
  {
   "cell_type": "code",
   "execution_count": 13,
   "metadata": {},
   "outputs": [
    {
     "data": {
      "text/html": [
       "<div>\n",
       "<style scoped>\n",
       "    .dataframe tbody tr th:only-of-type {\n",
       "        vertical-align: middle;\n",
       "    }\n",
       "\n",
       "    .dataframe tbody tr th {\n",
       "        vertical-align: top;\n",
       "    }\n",
       "\n",
       "    .dataframe thead th {\n",
       "        text-align: right;\n",
       "    }\n",
       "</style>\n",
       "<table border=\"1\" class=\"dataframe\">\n",
       "  <thead>\n",
       "    <tr style=\"text-align: right;\">\n",
       "      <th></th>\n",
       "      <th>age</th>\n",
       "      <th>cycle_number</th>\n",
       "      <th>cycle_length</th>\n",
       "      <th>conception_cycle</th>\n",
       "    </tr>\n",
       "  </thead>\n",
       "  <tbody>\n",
       "    <tr>\n",
       "      <th>0</th>\n",
       "      <td>26</td>\n",
       "      <td>1</td>\n",
       "      <td>27</td>\n",
       "      <td>0</td>\n",
       "    </tr>\n",
       "    <tr>\n",
       "      <th>1</th>\n",
       "      <td>26</td>\n",
       "      <td>2</td>\n",
       "      <td>29</td>\n",
       "      <td>0</td>\n",
       "    </tr>\n",
       "    <tr>\n",
       "      <th>2</th>\n",
       "      <td>26</td>\n",
       "      <td>3</td>\n",
       "      <td>29</td>\n",
       "      <td>1</td>\n",
       "    </tr>\n",
       "    <tr>\n",
       "      <th>3</th>\n",
       "      <td>28</td>\n",
       "      <td>2</td>\n",
       "      <td>27</td>\n",
       "      <td>0</td>\n",
       "    </tr>\n",
       "    <tr>\n",
       "      <th>4</th>\n",
       "      <td>28</td>\n",
       "      <td>3</td>\n",
       "      <td>26</td>\n",
       "      <td>1</td>\n",
       "    </tr>\n",
       "    <tr>\n",
       "      <th>...</th>\n",
       "      <td>...</td>\n",
       "      <td>...</td>\n",
       "      <td>...</td>\n",
       "      <td>...</td>\n",
       "    </tr>\n",
       "    <tr>\n",
       "      <th>3319</th>\n",
       "      <td>32</td>\n",
       "      <td>3</td>\n",
       "      <td>27</td>\n",
       "      <td>0</td>\n",
       "    </tr>\n",
       "    <tr>\n",
       "      <th>3320</th>\n",
       "      <td>32</td>\n",
       "      <td>4</td>\n",
       "      <td>30</td>\n",
       "      <td>0</td>\n",
       "    </tr>\n",
       "    <tr>\n",
       "      <th>3321</th>\n",
       "      <td>32</td>\n",
       "      <td>5</td>\n",
       "      <td>28</td>\n",
       "      <td>0</td>\n",
       "    </tr>\n",
       "    <tr>\n",
       "      <th>3322</th>\n",
       "      <td>32</td>\n",
       "      <td>6</td>\n",
       "      <td>30</td>\n",
       "      <td>0</td>\n",
       "    </tr>\n",
       "    <tr>\n",
       "      <th>3323</th>\n",
       "      <td>30</td>\n",
       "      <td>1</td>\n",
       "      <td>41</td>\n",
       "      <td>0</td>\n",
       "    </tr>\n",
       "  </tbody>\n",
       "</table>\n",
       "<p>2613 rows × 4 columns</p>\n",
       "</div>"
      ],
      "text/plain": [
       "      age  cycle_number  cycle_length  conception_cycle\n",
       "0      26             1            27                 0\n",
       "1      26             2            29                 0\n",
       "2      26             3            29                 1\n",
       "3      28             2            27                 0\n",
       "4      28             3            26                 1\n",
       "...   ...           ...           ...               ...\n",
       "3319   32             3            27                 0\n",
       "3320   32             4            30                 0\n",
       "3321   32             5            28                 0\n",
       "3322   32             6            30                 0\n",
       "3323   30             1            41                 0\n",
       "\n",
       "[2613 rows x 4 columns]"
      ]
     },
     "execution_count": 13,
     "metadata": {},
     "output_type": "execute_result"
    }
   ],
   "source": [
    "train_df"
   ]
  },
  {
   "cell_type": "code",
   "execution_count": 14,
   "metadata": {},
   "outputs": [
    {
     "name": "stderr",
     "output_type": "stream",
     "text": [
      "C:\\Users\\medha\\AppData\\Local\\Temp\\ipykernel_20024\\779700655.py:1: SettingWithCopyWarning: \n",
      "A value is trying to be set on a copy of a slice from a DataFrame\n",
      "\n",
      "See the caveats in the documentation: https://pandas.pydata.org/pandas-docs/stable/user_guide/indexing.html#returning-a-view-versus-a-copy\n",
      "  test_df.drop(columns=[\"new_id\"],inplace=True)\n"
     ]
    }
   ],
   "source": [
    "test_df.drop(columns=[\"new_id\"],inplace=True)\n"
   ]
  },
  {
   "cell_type": "code",
   "execution_count": 15,
   "metadata": {},
   "outputs": [],
   "source": [
    "X_test = test_df.drop(columns=[\"cycle_length\"]) \n",
    "y_test = test_df[\"cycle_length\"]"
   ]
  },
  {
   "cell_type": "code",
   "execution_count": 16,
   "metadata": {},
   "outputs": [
    {
     "data": {
      "text/html": [
       "<div>\n",
       "<style scoped>\n",
       "    .dataframe tbody tr th:only-of-type {\n",
       "        vertical-align: middle;\n",
       "    }\n",
       "\n",
       "    .dataframe tbody tr th {\n",
       "        vertical-align: top;\n",
       "    }\n",
       "\n",
       "    .dataframe thead th {\n",
       "        text-align: right;\n",
       "    }\n",
       "</style>\n",
       "<table border=\"1\" class=\"dataframe\">\n",
       "  <thead>\n",
       "    <tr style=\"text-align: right;\">\n",
       "      <th></th>\n",
       "      <th>age</th>\n",
       "      <th>cycle_number</th>\n",
       "      <th>conception_cycle</th>\n",
       "    </tr>\n",
       "  </thead>\n",
       "  <tbody>\n",
       "    <tr>\n",
       "      <th>5</th>\n",
       "      <td>28</td>\n",
       "      <td>1</td>\n",
       "      <td>0</td>\n",
       "    </tr>\n",
       "    <tr>\n",
       "      <th>6</th>\n",
       "      <td>28</td>\n",
       "      <td>2</td>\n",
       "      <td>0</td>\n",
       "    </tr>\n",
       "    <tr>\n",
       "      <th>7</th>\n",
       "      <td>28</td>\n",
       "      <td>3</td>\n",
       "      <td>0</td>\n",
       "    </tr>\n",
       "    <tr>\n",
       "      <th>8</th>\n",
       "      <td>28</td>\n",
       "      <td>4</td>\n",
       "      <td>1</td>\n",
       "    </tr>\n",
       "    <tr>\n",
       "      <th>24</th>\n",
       "      <td>31</td>\n",
       "      <td>1</td>\n",
       "      <td>0</td>\n",
       "    </tr>\n",
       "    <tr>\n",
       "      <th>...</th>\n",
       "      <td>...</td>\n",
       "      <td>...</td>\n",
       "      <td>...</td>\n",
       "    </tr>\n",
       "    <tr>\n",
       "      <th>3310</th>\n",
       "      <td>27</td>\n",
       "      <td>5</td>\n",
       "      <td>0</td>\n",
       "    </tr>\n",
       "    <tr>\n",
       "      <th>3311</th>\n",
       "      <td>27</td>\n",
       "      <td>6</td>\n",
       "      <td>0</td>\n",
       "    </tr>\n",
       "    <tr>\n",
       "      <th>3312</th>\n",
       "      <td>27</td>\n",
       "      <td>7</td>\n",
       "      <td>0</td>\n",
       "    </tr>\n",
       "    <tr>\n",
       "      <th>3313</th>\n",
       "      <td>27</td>\n",
       "      <td>8</td>\n",
       "      <td>0</td>\n",
       "    </tr>\n",
       "    <tr>\n",
       "      <th>3314</th>\n",
       "      <td>27</td>\n",
       "      <td>9</td>\n",
       "      <td>1</td>\n",
       "    </tr>\n",
       "  </tbody>\n",
       "</table>\n",
       "<p>711 rows × 3 columns</p>\n",
       "</div>"
      ],
      "text/plain": [
       "      age  cycle_number  conception_cycle\n",
       "5      28             1                 0\n",
       "6      28             2                 0\n",
       "7      28             3                 0\n",
       "8      28             4                 1\n",
       "24     31             1                 0\n",
       "...   ...           ...               ...\n",
       "3310   27             5                 0\n",
       "3311   27             6                 0\n",
       "3312   27             7                 0\n",
       "3313   27             8                 0\n",
       "3314   27             9                 1\n",
       "\n",
       "[711 rows x 3 columns]"
      ]
     },
     "execution_count": 16,
     "metadata": {},
     "output_type": "execute_result"
    }
   ],
   "source": [
    "X_test"
   ]
  },
  {
   "cell_type": "code",
   "execution_count": 17,
   "metadata": {},
   "outputs": [],
   "source": [
    "X_train=train_df.drop(columns=[\"cycle_length\"])\n",
    "y_train=train_df[\"cycle_length\"]"
   ]
  },
  {
   "cell_type": "code",
   "execution_count": 18,
   "metadata": {},
   "outputs": [
    {
     "name": "stdout",
     "output_type": "stream",
     "text": [
      "Train MSE: 49.97627248373517\n"
     ]
    }
   ],
   "source": [
    "from sklearn.ensemble import RandomForestClassifier\n",
    "from sklearn.metrics import mean_squared_error\n",
    "\n",
    "\n",
    "rf = RandomForestClassifier(random_state=42)\n",
    "rf.fit(X_train, y_train)\n",
    "#train mse\n",
    "y_pred = rf.predict(X_train)\n",
    "mse = mean_squared_error(y_train, y_pred)\n",
    "print(f\"Train MSE: {mse}\")"
   ]
  },
  {
   "cell_type": "code",
   "execution_count": 19,
   "metadata": {},
   "outputs": [
    {
     "name": "stdout",
     "output_type": "stream",
     "text": [
      "Test MSE: 49.32067510548523\n",
      "Test RMSE: 7.022868011395717\n"
     ]
    }
   ],
   "source": [
    "y_pred=rf.predict(X_test)\n",
    "mse=mean_squared_error(y_test,y_pred)\n",
    "print(f\"Test MSE: {mse}\")\n",
    "print(f\"Test RMSE: {np.sqrt(mse)}\")"
   ]
  },
  {
   "cell_type": "code",
   "execution_count": 20,
   "metadata": {},
   "outputs": [
    {
     "name": "stdout",
     "output_type": "stream",
     "text": [
      "Train MSE: 39.88329993866127\n",
      "Train RMSE: 6.315322631399069\n"
     ]
    }
   ],
   "source": [
    "#xgbost\n",
    "from xgboost import XGBRegressor\n",
    "\n",
    "xgb = XGBRegressor(random_state=42, objective=\"reg:squarederror\")\n",
    "xgb.fit(X_train, y_train)\n",
    "#train mse\n",
    "y_pred = xgb.predict(X_train)\n",
    "mse = mean_squared_error(y_train, y_pred)\n",
    "print(f\"Train MSE: {mse}\")\n",
    "#rmse\n",
    "print(f\"Train RMSE: {np.sqrt(mse)}\")"
   ]
  },
  {
   "cell_type": "code",
   "execution_count": 21,
   "metadata": {},
   "outputs": [
    {
     "name": "stdout",
     "output_type": "stream",
     "text": [
      "Test MSE: 41.66155546550654\n",
      "Test RMSE: 6.454576319597324\n"
     ]
    }
   ],
   "source": [
    "#test\n",
    "y_pred = xgb.predict(X_test)\n",
    "\n",
    "mse = mean_squared_error(y_test, y_pred)\n",
    "print(f\"Test MSE: {mse}\")\n",
    "print(f\"Test RMSE: {np.sqrt(mse)}\")\n"
   ]
  },
  {
   "cell_type": "code",
   "execution_count": 22,
   "metadata": {},
   "outputs": [
    {
     "data": {
      "text/plain": [
       "array([30.30189 , 30.199657, 30.098843, 27.656631, 29.195677, 30.10415 ,\n",
       "       31.272879, 22.2825  , 29.503607, 24.698063, 29.572035, 32.94979 ,\n",
       "       30.199657, 30.098843, 31.061216, 30.48269 , 29.088673, 30.30189 ,\n",
       "       30.199657, 30.098843, 27.656631, 31.684587, 28.90171 , 31.315868,\n",
       "       29.186653, 29.254562, 30.029411, 28.989279, 27.771145, 26.597725,\n",
       "       26.742426, 27.138956, 30.199657, 30.098843, 31.061216, 29.088673,\n",
       "       29.191841, 31.345743, 33.771557, 33.681034, 34.1059  , 30.030695,\n",
       "       30.498943, 30.708057, 32.140488, 28.220455, 23.573284, 32.025047,\n",
       "       24.488691, 30.70412 , 32.59673 , 31.699795, 33.126854, 33.741413,\n",
       "       33.508274, 29.14649 , 30.922312, 30.468504, 29.84218 , 31.984428,\n",
       "       31.639833, 30.170984, 30.84178 , 30.521906, 30.145882, 27.300888,\n",
       "       30.70412 , 32.59673 , 33.771557, 33.681034, 29.333366, 31.684587,\n",
       "       28.90171 , 31.315868, 29.186653, 29.33958 , 33.073376, 26.1617  ,\n",
       "       32.392147, 30.168287, 30.205803, 31.202114, 30.614222, 29.102278,\n",
       "       30.51567 , 28.748   , 28.503757, 27.405489, 26.921106, 28.405157,\n",
       "       31.238668, 28.306463, 28.704273, 30.934122, 30.614222, 32.392147,\n",
       "       30.168287, 30.205803, 31.202114, 30.377924, 34.046124, 33.771557,\n",
       "       33.681034, 34.1059  , 30.030695, 30.498943, 30.708057, 32.140488,\n",
       "       22.615433, 32.72795 , 33.181953, 31.703371, 34.739307, 28.884695,\n",
       "       29.40298 , 29.503607, 29.633238, 32.623592, 29.499966, 33.163166,\n",
       "       32.468613, 30.448967, 30.360611, 29.245293, 24.881021, 31.238668,\n",
       "       28.306463, 28.704273, 27.889725, 26.583582, 30.199657, 30.098843,\n",
       "       31.061216, 30.48269 , 29.088673, 33.181953, 31.703371, 33.834236,\n",
       "       32.07954 , 33.117916, 34.754986, 29.498861, 28.798489, 28.004549,\n",
       "       29.951902, 32.59673 , 31.699795, 33.126854, 33.741413, 28.570265,\n",
       "       30.30189 , 30.199657, 27.765335, 32.392147, 30.168287, 30.205803,\n",
       "       31.202114, 30.614222, 29.254562, 30.029411, 28.989279, 27.771145,\n",
       "       26.597725, 26.742426, 27.138956, 28.834455, 27.983906, 27.844364,\n",
       "       27.059462, 28.43693 , 26.498106, 26.47697 , 31.684587, 28.90171 ,\n",
       "       28.74313 , 45.950592, 30.935236, 28.831408, 30.80902 , 29.968323,\n",
       "       32.976925, 33.181953, 31.703371, 33.834236, 32.07954 , 33.117916,\n",
       "       34.754986, 29.498861, 28.798489, 28.004549, 29.951902, 27.876263,\n",
       "       28.525589, 33.771557, 33.681034, 28.393486, 30.071238, 30.7194  ,\n",
       "       26.043087, 27.36477 , 26.656523, 28.341671, 30.199657, 30.098843,\n",
       "       31.061216, 30.48269 , 29.088673, 29.191841, 31.345743, 33.93051 ,\n",
       "       29.964058, 28.125267, 29.415775, 31.874527, 29.93411 , 31.355116,\n",
       "       28.487125, 27.013895, 28.949406, 29.52521 , 28.2096  , 32.59673 ,\n",
       "       31.699795, 33.741413, 33.508274, 30.169237, 29.984606, 31.510426,\n",
       "       29.155466, 28.269585, 32.025047, 29.743542, 31.385225, 33.848625,\n",
       "       30.758919, 29.572035, 29.254562, 30.029411, 28.989279, 27.771145,\n",
       "       26.597725, 26.742426, 27.138956, 28.834455, 27.983906, 27.844364,\n",
       "       27.059462, 29.973877, 29.415775, 31.874527, 29.93411 , 31.355116,\n",
       "       28.487125, 27.013895, 28.949406, 29.52521 , 28.2096  , 30.7194  ,\n",
       "       26.043087, 27.36477 , 26.656523, 26.479935, 26.745548, 27.099892,\n",
       "       25.173563, 28.057476, 23.718712, 31.238668, 28.306463, 28.704273,\n",
       "       27.889725, 26.583582, 29.167427, 28.374214, 30.168287, 30.205803,\n",
       "       31.202114, 30.614222, 29.102278, 30.51567 , 28.748   , 28.503757,\n",
       "       27.405489, 26.921106, 28.405157, 32.59673 , 31.699795, 30.169237,\n",
       "       29.984606, 34.046124, 33.771557, 33.681034, 28.393486, 29.333366,\n",
       "       31.684587, 28.90171 , 28.74313 , 30.30189 , 30.199657, 30.098843,\n",
       "       31.061216, 30.48269 , 29.191841, 29.333366, 31.684587, 28.90171 ,\n",
       "       31.315868, 29.186653, 28.796152, 29.33958 , 33.073376, 29.121502,\n",
       "       28.843126, 28.788618, 28.669992, 33.181953, 30.036299, 27.668032,\n",
       "       27.395882, 26.754648, 27.229939, 27.135244, 28.299345, 28.230206,\n",
       "       26.385244, 32.025047, 29.743542, 31.385225, 33.848625, 30.758919,\n",
       "       30.934927, 30.302553, 29.476364, 30.935236, 28.831408, 30.80902 ,\n",
       "       29.968323, 31.416597, 30.103474, 29.653425, 29.147938, 30.347885,\n",
       "       33.181953, 31.703371, 33.834236, 32.07954 , 33.117916, 34.754986,\n",
       "       29.498861, 28.831408, 30.80902 , 29.968323, 31.416597, 32.356724,\n",
       "       30.896572, 28.066475, 30.772688, 30.002783, 31.001165, 28.142803,\n",
       "       29.466516, 30.90152 , 33.860676, 32.025047, 29.743542, 31.385225,\n",
       "       33.848625, 30.758919, 30.934927, 30.302553, 29.476364, 28.697845,\n",
       "       29.14649 , 30.922312, 30.468504, 29.84218 , 31.984428, 31.639833,\n",
       "       30.170984, 30.84178 , 30.521906, 30.145882, 28.884695, 29.40298 ,\n",
       "       29.503607, 29.633238, 33.860676, 32.025047, 29.743542, 31.385225,\n",
       "       33.848625, 30.30189 , 30.199657, 30.098843, 31.061216, 30.205376,\n",
       "       32.72795 , 33.181953, 31.703371, 33.834236, 32.07954 , 33.117916,\n",
       "       34.754986, 29.498861, 28.798489, 34.580177, 30.896572, 28.066475,\n",
       "       30.772688, 30.002783, 31.001165, 28.142803, 29.466516, 30.90152 ,\n",
       "       27.838037, 26.786404, 32.59673 , 31.699795, 33.126854, 33.741413,\n",
       "       33.508274, 30.169237, 37.070126, 28.884695, 29.40298 , 29.503607,\n",
       "       29.633238, 32.623592, 29.499966, 27.76818 , 33.181953, 31.703371,\n",
       "       33.834236, 32.07954 , 33.117916, 34.754986, 29.498861, 28.798489,\n",
       "       28.004549, 45.950592, 30.935236, 25.306437, 30.10415 , 25.981613,\n",
       "       29.333366, 31.684587, 28.90171 , 28.74313 , 30.071238, 30.7194  ,\n",
       "       27.36477 , 33.364414, 28.884695, 32.72795 , 33.181953, 31.703371,\n",
       "       33.834236, 32.07954 , 33.117916, 34.754986, 29.498861, 28.798489,\n",
       "       28.004549, 29.951902, 30.10415 , 31.272879, 30.771166, 32.24603 ,\n",
       "       28.483671, 28.179903, 28.814741, 29.778719, 29.440071, 28.317398,\n",
       "       28.664253, 28.089268, 32.392147, 32.10131 , 32.040848, 33.681034,\n",
       "       30.030695, 30.498943, 30.708057, 32.140488, 29.306696, 28.14268 ,\n",
       "       29.135014, 27.465532, 28.220455, 30.007338, 28.247807, 33.771557,\n",
       "       33.681034, 28.393486, 33.771557, 33.681034, 28.989103, 28.697845,\n",
       "       31.750092, 29.88841 , 28.455841, 28.017992, 27.72883 , 26.373085,\n",
       "       25.20863 , 30.103474, 29.653425, 30.469267, 32.976925, 29.554846,\n",
       "       27.812735, 29.976841, 32.555233, 27.668032, 27.395882, 26.754648,\n",
       "       27.229939, 27.135244, 22.486969, 29.195677, 30.10415 , 45.950592,\n",
       "       30.935236, 30.205803, 29.102278, 30.51567 , 28.748   , 28.503757,\n",
       "       27.405489, 26.921106, 28.405157, 27.951057, 30.416561, 26.922617,\n",
       "       26.42674 , 29.147938, 30.469267, 30.40396 , 30.953928, 32.976925,\n",
       "       29.554846, 27.812735, 31.733454, 28.44266 , 32.374912, 29.499966,\n",
       "       33.163166, 34.754986, 29.498861, 28.798489, 28.004549, 27.876263,\n",
       "       28.525589, 23.935793, 30.10415 , 31.272879, 30.771166, 32.24603 ,\n",
       "       29.778719, 28.977854, 29.440071, 28.317398, 29.503607, 29.633238,\n",
       "       32.623592, 29.499966, 33.163166, 32.468613, 30.448967, 30.360611,\n",
       "       29.245293, 29.358677, 26.865892, 28.774666, 30.907015, 29.309456,\n",
       "       32.07954 , 33.117916, 34.84149 , 32.07954 , 33.117916, 34.754986,\n",
       "       29.498861, 28.798489, 28.004549, 27.876263, 26.466166, 25.962864,\n",
       "       25.727934, 24.487244, 26.02602 , 33.681034, 34.1059  , 30.030695,\n",
       "       30.498943, 30.708057, 32.140488, 29.306696, 28.14268 , 29.135014,\n",
       "       24.159407, 23.53091 , 23.458603, 28.520731, 26.005133, 32.59673 ,\n",
       "       31.699795, 33.126854, 33.741413, 33.508274, 30.169237, 29.984606,\n",
       "       30.199657, 30.098843, 31.061216, 30.48269 , 32.025047, 29.743542,\n",
       "       31.385225, 33.848625, 30.758919, 30.934927, 30.302553, 29.476364,\n",
       "       25.252342, 30.156685, 25.59603 , 31.96892 , 28.923056, 30.221487,\n",
       "       33.285748, 33.711143, 30.168287, 33.181953, 31.703371, 33.834236,\n",
       "       32.07954 , 33.117916, 34.84149 , 32.392147, 30.168287, 30.205803,\n",
       "       31.202114, 30.614222, 27.405489, 30.935236, 29.333366, 30.7194  ,\n",
       "       26.043087, 27.36477 , 26.656523, 25.755238, 26.875736, 29.16912 ,\n",
       "       29.13414 , 29.649694, 29.432194, 27.329254, 26.407877, 28.45368 ,\n",
       "       26.75759 , 33.181953, 31.703371, 33.834236, 32.07954 , 33.117916,\n",
       "       34.754986, 29.498861, 28.798489, 28.884695, 25.334217, 32.07954 ,\n",
       "       33.117916, 34.754986, 29.498861, 28.798489, 28.004549, 29.951902,\n",
       "       27.876263, 28.525589, 26.466166, 25.962864, 25.727934, 24.487244,\n",
       "       26.02602 , 29.743542, 31.385225, 33.848625, 30.758919, 30.934927,\n",
       "       33.181953, 31.703371, 30.098843, 31.061216, 30.48269 , 29.088673,\n",
       "       29.191841, 28.748   , 28.503757, 27.405489, 27.951057, 33.181953,\n",
       "       33.848625, 31.684587, 28.90171 , 31.315868, 29.186653, 28.796152,\n",
       "       29.33958 , 33.073376, 26.1617  ], dtype=float32)"
      ]
     },
     "execution_count": 22,
     "metadata": {},
     "output_type": "execute_result"
    }
   ],
   "source": [
    "y_pred "
   ]
  },
  {
   "cell_type": "code",
   "execution_count": 23,
   "metadata": {},
   "outputs": [
    {
     "data": {
      "text/plain": [
       "array([25, 26, 27, 23, 27, 28, 25, 21, 36, 28, 26, 22, 43, 38, 43, 57, 74,\n",
       "       27, 28, 26, 32, 31, 30, 31, 28, 33, 33, 29, 29, 30, 28, 28, 27, 28,\n",
       "       26, 27, 29, 28, 27, 29, 28, 27, 26, 34, 28, 27, 30, 48, 34, 29, 30,\n",
       "       28, 30, 28, 30, 19, 39, 30, 33, 31, 34, 32, 31, 33, 41, 38, 30, 35,\n",
       "       67, 40, 32, 36, 31, 28, 32, 28, 35, 30, 29, 25, 27, 27, 24, 27, 24,\n",
       "       26, 29, 24, 28, 26, 25, 25, 28, 28, 26, 77, 46, 35, 51, 35, 28, 27,\n",
       "       28, 27, 31, 25, 28, 30, 21, 47, 41, 40, 31, 30, 28, 29, 34, 37, 30,\n",
       "       27, 29, 28, 28, 31, 26, 27, 24, 27, 25, 24, 28, 27, 30, 30, 28, 30,\n",
       "       35, 36, 36, 33, 31, 31, 29, 31, 32, 33, 35, 33, 33, 28, 26, 29, 30,\n",
       "       28, 32, 32, 31, 56, 24, 28, 27, 26, 28, 24, 27, 27, 32, 26, 24, 27,\n",
       "       28, 36, 36, 38, 24, 33, 31, 35, 36, 33, 29, 25, 27, 30, 27, 24, 28,\n",
       "       26, 24, 27, 27, 27, 25, 27, 28, 24, 23, 27, 31, 28, 28, 28, 47, 45,\n",
       "       37, 29, 35, 40, 29, 36, 30, 29, 25, 25, 25, 24, 24, 27, 26, 24, 26,\n",
       "       25, 26, 26, 29, 28, 24, 24, 26, 25, 28, 28, 29, 27, 28, 31, 30, 28,\n",
       "       28, 28, 29, 30, 28, 29, 29, 29, 29, 26, 33, 38, 40, 31, 36, 27, 27,\n",
       "       30, 30, 27, 26, 26, 27, 24, 26, 26, 28, 24, 26, 30, 67, 35, 31, 33,\n",
       "       21, 31, 28, 31, 29, 28, 37, 31, 29, 29, 32, 31, 31, 29, 27, 32, 29,\n",
       "       29, 28, 28, 25, 26, 26, 26, 33, 27, 30, 27, 25, 26, 30, 29, 34, 30,\n",
       "       29, 28, 29, 30, 32, 28, 27, 29, 28, 30, 30, 27, 31, 27, 30, 29, 30,\n",
       "       29, 29, 34, 33, 33, 34, 33, 41, 34, 24, 39, 31, 34, 32, 31, 31, 29,\n",
       "       29, 21, 28, 24, 27, 23, 26, 24, 27, 31, 35, 31, 35, 32, 30, 26, 29,\n",
       "       28, 29, 30, 28, 30, 51, 37, 32, 31, 32, 33, 29, 32, 32, 35, 31, 29,\n",
       "       32, 25, 33, 33, 29, 30, 32, 44, 35, 39, 19, 49, 38, 37, 29, 31, 34,\n",
       "       27, 47, 31, 30, 34, 24, 26, 28, 24, 27, 28, 29, 27, 27, 31, 31, 25,\n",
       "       29, 27, 31, 29, 28, 33, 32, 29, 43, 35, 31, 37, 40, 36, 24, 30, 32,\n",
       "       30, 30, 29, 28, 32, 33, 35, 33, 33, 32, 40, 28, 37, 33, 30, 25, 27,\n",
       "       37, 29, 27, 34, 26, 26, 28, 28, 29, 25, 34, 34, 32, 33, 32, 35, 30,\n",
       "       29, 33, 40, 36, 29, 33, 28, 27, 29, 30, 29, 28, 32, 29, 37, 29, 32,\n",
       "       27, 31, 30, 29, 28, 29, 32, 28, 26, 27, 29, 25, 29, 28, 29, 32, 35,\n",
       "       32, 34, 30, 26, 28, 31, 26, 28, 26, 28, 28, 27, 35, 29, 30, 31, 32,\n",
       "       39, 31, 41, 32, 38, 35, 32, 31, 25, 32, 33, 26, 27, 25, 28, 26, 28,\n",
       "       26, 28, 26, 27, 27, 33, 26, 25, 29, 29, 30, 27, 27, 25, 30, 29, 28,\n",
       "       28, 29, 38, 32, 36, 28, 30, 36, 30, 24, 31, 29, 35, 30, 30, 36, 32,\n",
       "       30, 28, 29, 28, 26, 30, 27, 28, 28, 27, 30, 26, 25, 28, 27, 24, 29,\n",
       "       31, 27, 31, 31, 27, 31, 29, 30, 31, 33, 30, 28, 35, 29, 30, 47, 41,\n",
       "       33, 50, 38, 37, 35, 32, 34, 30, 27, 31, 32, 31, 35, 31, 34, 30, 32,\n",
       "       29, 33, 33, 31, 28, 26, 26, 28, 30, 34, 28, 26, 31, 33, 32, 31, 31,\n",
       "       32, 45, 32, 27, 33, 24, 30, 29, 28, 30, 33, 33, 38, 36, 30, 32, 28,\n",
       "       37, 29, 27, 28, 25, 30, 30, 28, 28, 23, 31, 24, 27, 26, 29, 43, 63,\n",
       "       44, 33, 34, 30, 42, 68, 33, 31, 30, 25, 29, 29, 27, 29, 31, 30, 28,\n",
       "       29, 32, 29, 29, 31, 37, 37, 57, 70, 58, 28, 21, 29, 27, 30, 29, 30,\n",
       "       28, 31, 32, 27, 26, 32, 30, 28, 31, 36, 33, 31, 31, 27],\n",
       "      dtype=int64)"
      ]
     },
     "execution_count": 23,
     "metadata": {},
     "output_type": "execute_result"
    }
   ],
   "source": [
    "np.array(y_test)"
   ]
  },
  {
   "cell_type": "code",
   "execution_count": 24,
   "metadata": {},
   "outputs": [
    {
     "data": {
      "text/html": [
       "<div>\n",
       "<style scoped>\n",
       "    .dataframe tbody tr th:only-of-type {\n",
       "        vertical-align: middle;\n",
       "    }\n",
       "\n",
       "    .dataframe tbody tr th {\n",
       "        vertical-align: top;\n",
       "    }\n",
       "\n",
       "    .dataframe thead th {\n",
       "        text-align: right;\n",
       "    }\n",
       "</style>\n",
       "<table border=\"1\" class=\"dataframe\">\n",
       "  <thead>\n",
       "    <tr style=\"text-align: right;\">\n",
       "      <th></th>\n",
       "      <th>age</th>\n",
       "      <th>cycle_number</th>\n",
       "      <th>conception_cycle</th>\n",
       "    </tr>\n",
       "  </thead>\n",
       "  <tbody>\n",
       "    <tr>\n",
       "      <th>0</th>\n",
       "      <td>20</td>\n",
       "      <td>40</td>\n",
       "      <td>0</td>\n",
       "    </tr>\n",
       "  </tbody>\n",
       "</table>\n",
       "</div>"
      ],
      "text/plain": [
       "   age  cycle_number  conception_cycle\n",
       "0   20            40                 0"
      ]
     },
     "execution_count": 24,
     "metadata": {},
     "output_type": "execute_result"
    }
   ],
   "source": [
    "age=20\n",
    "cycle_number=40\n",
    "conception_cycle=0\n",
    "# cycle_length=28\n",
    "#create df\n",
    "data = {'age': [age], 'cycle_number': [cycle_number], 'conception_cycle': [conception_cycle]}\n",
    "data=pd.DataFrame(data)\n",
    "data"
   ]
  },
  {
   "cell_type": "code",
   "execution_count": 25,
   "metadata": {},
   "outputs": [
    {
     "data": {
      "text/plain": [
       "array([25.627613], dtype=float32)"
      ]
     },
     "execution_count": 25,
     "metadata": {},
     "output_type": "execute_result"
    }
   ],
   "source": [
    "xgb.predict(data)"
   ]
  },
  {
   "cell_type": "code",
   "execution_count": 26,
   "metadata": {},
   "outputs": [],
   "source": [
    "#save xgb model on disk\n",
    "import pickle\n",
    "\n",
    "with open(\"xgb_model.pkl\", \"wb\") as f:\n",
    "    pickle.dump(xgb, f)\n",
    "\n",
    "    "
   ]
  },
  {
   "cell_type": "code",
   "execution_count": 27,
   "metadata": {},
   "outputs": [
    {
     "data": {
      "text/plain": [
       "array([25.627613], dtype=float32)"
      ]
     },
     "execution_count": 27,
     "metadata": {},
     "output_type": "execute_result"
    }
   ],
   "source": [
    "#load back\n",
    "with open(\"xgb_model.pkl\", \"rb\") as f:\n",
    "    xgb_loaded = pickle.load(f)\n",
    "\n",
    "xgb_loaded.predict(data)\n"
   ]
  }
 ],
 "metadata": {
  "kernelspec": {
   "display_name": "Python 3",
   "language": "python",
   "name": "python3"
  },
  "language_info": {
   "codemirror_mode": {
    "name": "ipython",
    "version": 3
   },
   "file_extension": ".py",
   "mimetype": "text/x-python",
   "name": "python",
   "nbconvert_exporter": "python",
   "pygments_lexer": "ipython3",
   "version": "3.11.4"
  }
 },
 "nbformat": 4,
 "nbformat_minor": 2
}
